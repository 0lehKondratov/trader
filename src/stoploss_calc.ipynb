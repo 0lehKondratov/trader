{
 "cells": [
  {
   "cell_type": "code",
   "execution_count": 71,
   "metadata": {},
   "outputs": [],
   "source": [
    "# The maximum amount of PORTFOLIO_VAL to risk on a trade\n",
    "MAX_RISK = 0.02\n",
    "\n",
    "# How far to dip below support before triggering stoploss\n",
    "SUPPORT_MARGIN = 0.01\n",
    "\n",
    "# Target profit potential ratio relative to risk\n",
    "TARGET_RATIO = 2\n",
    "\n",
    "# Don't put more than this fraction of the portfolio in one stock\n",
    "MAX_INVESTMENT = 0.8\n",
    "\n",
    "def shares_to_buy(market: float, support: float) -> dict:\n",
    "    \"\"\"Calculate how many shares of a stock to buy given price\"\"\"\n",
    "    result = {'market': market}\n",
    "    result['stop'] = support * (1-SUPPORT_MARGIN)\n",
    "    \n",
    "    # Calculate target buy equity\n",
    "    stock_risk = 1 - result['stop'] / market\n",
    "    target = MAX_RISK * PORTFOLIO_VAL / stock_risk\n",
    "    target = min(target, MAX_INVESTMENT * PORTFOLIO_VAL)\n",
    "    target = min(target, LIQUIDITY - market / 2)\n",
    "    \n",
    "    # We cant invest less than one share\n",
    "    if target < market:\n",
    "        return None\n",
    "    \n",
    "    # Round target buy equity to a multiple of the market price\n",
    "    result['shares'] = round(target / market)\n",
    "    result['equity'] = market * result['shares']\n",
    "    \n",
    "    #  Recalculate based on rounding\n",
    "    result['risk_percent'] = result['equity'] / PORTFOLIO_VAL * (1- result['stop'] / result['market'])\n",
    "    result['risk'] = result['equity'] * (1 - result['stop'] / result['market'])\n",
    "    result['target'] = (1 +result['risk'] * 2 / result['equity']) * market\n",
    "    result['target_percent'] = result['target'] / market - 1\n",
    "    return result\n",
    "\n",
    "def print_result(data: dict):\n",
    "    if not data:\n",
    "        print(\"Stock is not a good buy\")\n",
    "        return\n",
    "    \n",
    "    REGEX = \"Buy %i shares at $%0.2f worth $%0.2f with stop at $%0.2f\"\n",
    "    REGEX2 = \"Risking $%0.2f for %0.2f percent of a $%0.2f portfolio\"\n",
    "    print(REGEX % (data['shares'], data['market'], data['equity'], data['stop']))\n",
    "    print(REGEX2 % (data['risk'], data['risk_percent']*100, PORTFOLIO_VAL) )\n",
    "    print(\"2:1 share price target = $%0.2f +%0.2f\" % (data['target'], data['target_percent'] * 100))\n",
    "    print(\"1.05x -> $%0.2f\" % (data['equity'] * 0.05))\n",
    "    print(\"1.10x -> $%0.2f\" % (data['equity'] * 0.10))\n",
    "    "
   ]
  },
  {
   "cell_type": "code",
   "execution_count": 90,
   "metadata": {},
   "outputs": [
    {
     "name": "stdout",
     "output_type": "stream",
     "text": [
      "Buy 529 shares at $23.20 worth $12272.80 with stop at $22.44\n",
      "Risking $400.29 for 2.00 percent of a $20000.00 portfolio\n",
      "2:1 share price target = $24.71 +6.52\n",
      "1.05x -> $613.64\n",
      "1.10x -> $1227.28\n"
     ]
    }
   ],
   "source": [
    "# Value of the portfolio, used to calculate total risk\n",
    "PORTFOLIO_VAL = 20000\n",
    "LIQUIDITY = 20000\n",
    "\n",
    "result = shares_to_buy(23.20, 22.67)\n",
    "print_result(result)"
   ]
  },
  {
   "cell_type": "code",
   "execution_count": null,
   "metadata": {},
   "outputs": [],
   "source": []
  },
  {
   "cell_type": "code",
   "execution_count": null,
   "metadata": {},
   "outputs": [],
   "source": []
  }
 ],
 "metadata": {
  "kernelspec": {
   "display_name": "Python 3",
   "language": "python",
   "name": "python3"
  },
  "language_info": {
   "codemirror_mode": {
    "name": "ipython",
    "version": 3
   },
   "file_extension": ".py",
   "mimetype": "text/x-python",
   "name": "python",
   "nbconvert_exporter": "python",
   "pygments_lexer": "ipython3",
   "version": "3.7.0"
  }
 },
 "nbformat": 4,
 "nbformat_minor": 2
}
