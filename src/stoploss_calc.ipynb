{
 "cells": [
  {
   "cell_type": "code",
   "execution_count": 10,
   "metadata": {},
   "outputs": [],
   "source": [
    "import stoploss as sl\n",
    "def take_position(entry, support):\n",
    "    pf = sl.Portfolio(value = 1000, buying_power = 1000)\n",
    "    strat = sl.Strategy(0.02)\n",
    "    strat.max_investment = 0.5\n",
    "    ent = sl.Entry(entry, support)\n",
    "    pos = sl.Position(ent, strat, pf)\n",
    "    print(pos)\n",
    "    print(\"$%0.2f\" % (.05 * pos.value))\n",
    "    print(\"$%0.2f\" % (0.1 * pos.value))\n"
   ]
  },
  {
   "cell_type": "markdown",
   "metadata": {},
   "source": [
    "# 8/30"
   ]
  },
  {
   "cell_type": "markdown",
   "metadata": {},
   "source": [
    "### NVAX 8/30/18 10:45\n",
    "Concerns - probably would have been good to wait for stronger uptrend and more volume"
   ]
  },
  {
   "cell_type": "code",
   "execution_count": 11,
   "metadata": {},
   "outputs": [
    {
     "name": "stdout",
     "output_type": "stream",
     "text": [
      "Buy 340 shares at $1.47 worth $499.80 with stop at $1.42\n",
      "Risking $18.46 for 1.85 percent of a $1000.00 portfolio\n",
      "\n",
      "Price target = $1.58 (+7.39)\n",
      "\n",
      "$24.99\n",
      "$49.98\n"
     ]
    }
   ],
   "source": [
    "take_position(1.47, 1.43)"
   ]
  },
  {
   "cell_type": "code",
   "execution_count": null,
   "metadata": {},
   "outputs": [],
   "source": []
  },
  {
   "cell_type": "code",
   "execution_count": null,
   "metadata": {},
   "outputs": [],
   "source": []
  },
  {
   "cell_type": "code",
   "execution_count": null,
   "metadata": {},
   "outputs": [],
   "source": []
  }
 ],
 "metadata": {
  "kernelspec": {
   "display_name": "Python 3",
   "language": "python",
   "name": "python3"
  },
  "language_info": {
   "codemirror_mode": {
    "name": "ipython",
    "version": 3
   },
   "file_extension": ".py",
   "mimetype": "text/x-python",
   "name": "python",
   "nbconvert_exporter": "python",
   "pygments_lexer": "ipython3",
   "version": "3.7.0"
  }
 },
 "nbformat": 4,
 "nbformat_minor": 2
}
