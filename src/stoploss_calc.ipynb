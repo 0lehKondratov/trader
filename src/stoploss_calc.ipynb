{
 "cells": [
  {
   "cell_type": "code",
   "execution_count": 1,
   "metadata": {},
   "outputs": [],
   "source": [
    "import stoploss as sl\n",
    "\n"
   ]
  },
  {
   "cell_type": "code",
   "execution_count": 27,
   "metadata": {},
   "outputs": [
    {
     "name": "stdout",
     "output_type": "stream",
     "text": [
      "Buy 8721 shares at $1.72 worth $15000.12 with stop at $1.66\n",
      "Risking $495.35 for 1.65 percent of a $30000.00 portfolio\n",
      "\n",
      "Price target = $1.83 (+6.60)\n",
      "\n",
      "$750.01\n",
      "$1500.01\n"
     ]
    }
   ],
   "source": [
    "pf = sl.Portfolio(value = 30000, buying_power = 30000)\n",
    "strat = sl.Strategy(0.02)\n",
    "strat.max_investment = 0.5\n",
    "\n",
    "entry = 1.72\n",
    "support = 1.68\n",
    "\n",
    "ent = sl.Entry(entry, support)\n",
    "pos = sl.Position(ent, strat, pf)\n",
    "print(pos)\n",
    "print(\"$%0.2f\" % (.05 * pos.value))\n",
    "print(\"$%0.2f\" % (0.1 * pos.value))\n"
   ]
  },
  {
   "cell_type": "code",
   "execution_count": null,
   "metadata": {},
   "outputs": [],
   "source": []
  },
  {
   "cell_type": "code",
   "execution_count": null,
   "metadata": {},
   "outputs": [],
   "source": []
  },
  {
   "cell_type": "code",
   "execution_count": null,
   "metadata": {},
   "outputs": [],
   "source": []
  }
 ],
 "metadata": {
  "kernelspec": {
   "display_name": "Python 3",
   "language": "python",
   "name": "python3"
  },
  "language_info": {
   "codemirror_mode": {
    "name": "ipython",
    "version": 3
   },
   "file_extension": ".py",
   "mimetype": "text/x-python",
   "name": "python",
   "nbconvert_exporter": "python",
   "pygments_lexer": "ipython3",
   "version": "3.7.0"
  }
 },
 "nbformat": 4,
 "nbformat_minor": 2
}
