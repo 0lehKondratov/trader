{
 "cells": [
  {
   "cell_type": "code",
   "execution_count": 54,
   "metadata": {},
   "outputs": [],
   "source": [
    "import numpy as np\n",
    "import matplotlib.pyplot as plt\n",
    "\n",
    "# Print all outputs\n",
    "from IPython.core.interactiveshell import InteractiveShell\n",
    "InteractiveShell.ast_node_interactivity = \"all\""
   ]
  },
  {
   "cell_type": "markdown",
   "metadata": {},
   "source": [
    "We consider a stock price at a given point in time as a vector\n",
    "\n",
    "$$x_i = \\begin{pmatrix}\n",
    "    low \\\\ \n",
    "    high \\\\ \n",
    "    open \\\\ \n",
    "    close \\\\\n",
    "    vwap \\\\\n",
    "    volume\n",
    "\\end{pmatrix}$$\n",
    "\n",
    "And a collection of historical prices for a stock as a matrix\n",
    "\n",
    "$$\\bf{x} = \\begin{pmatrix}\n",
    "    x_0^T \\\\ \n",
    "    x_1^T \\\\\n",
    "    . \\\\\n",
    "    . \\\\\n",
    "    . \\\\\n",
    "    x_n^T\n",
    "\\end{pmatrix}\n",
    "=\n",
    "\\begin{pmatrix}\n",
    "    low(x_0) & high(x_0) & open(x_0) & close(x_0) & vwap(x_0) & volume(x_0) \\\\\n",
    "    low(x_1) & high(x_1) & open(x_1) & close(x_1) & vwap(x_1) & volume(x_1) \\\\\n",
    "    . & . & . & . & . & . \\\\\n",
    "    low(x_n) & high(x_n) & open(x_n) & close(x_n) & vwap(x_n) & volume(x_n) \\\\\n",
    "\\end{pmatrix}\n",
    "$$\n",
    "\n",
    "Firstly, this keeps all data well organized and contained within a single object. Secondly, it allows for studies to be described in the context of linear algebra operations.\n",
    "\n",
    "For instance, the computation of $$(high + low + open + close) / 4$$ can be described as\n",
    "\n",
    "$$\\frac{(high + low + open + close)}{4} = \\bf{x} \\cdot \\frac{1}{4} \\begin{pmatrix}\n",
    "  1 \\\\\n",
    "  1 \\\\\n",
    "  1 \\\\\n",
    "  1 \\\\\n",
    "  0 \\\\\n",
    "  0\n",
    "\\end{pmatrix}\n",
    "$$"
   ]
  },
  {
   "cell_type": "code",
   "execution_count": 22,
   "metadata": {},
   "outputs": [
    {
     "data": {
      "text/plain": [
       "array([[ 0,  1,  2,  3,  4,  5],\n",
       "       [ 6,  7,  8,  9, 10, 11],\n",
       "       [12, 13, 14, 15, 16, 17],\n",
       "       [18, 19, 20, 21, 22, 23],\n",
       "       [24, 25, 26, 27, 28, 29],\n",
       "       [30, 31, 32, 33, 34, 35]])"
      ]
     },
     "execution_count": 22,
     "metadata": {},
     "output_type": "execute_result"
    },
    {
     "data": {
      "text/plain": [
       "array([[0.25],\n",
       "       [0.25],\n",
       "       [0.25],\n",
       "       [0.25],\n",
       "       [0.  ],\n",
       "       [0.  ]])"
      ]
     },
     "execution_count": 22,
     "metadata": {},
     "output_type": "execute_result"
    },
    {
     "data": {
      "text/plain": [
       "array([[ 1.5],\n",
       "       [ 7.5],\n",
       "       [13.5],\n",
       "       [19.5],\n",
       "       [25.5],\n",
       "       [31.5]])"
      ]
     },
     "execution_count": 22,
     "metadata": {},
     "output_type": "execute_result"
    }
   ],
   "source": [
    "# Compute (high + low + open + close) / 4 using matrix operations\n",
    "data = np.arange(0, 36).reshape(6,6)\n",
    "hloc = np.array([1, 1, 1, 1, 0, 0]).reshape(6, 1) / 4\n",
    "\n",
    "data\n",
    "hloc\n",
    "data @ hloc\n",
    "\n"
   ]
  },
  {
   "cell_type": "markdown",
   "metadata": {},
   "source": [
    "In this case we can compute the desired result through matrix operations rather than having to write a complicated algorithm. \n",
    "\n",
    "We also have the flexibility to apply an operation to multiple features of a price history at once. Suppose that we want to compute a gradient to analyze changes in each price feature over time. We can compute a single gradient that will be valid for each feature."
   ]
  },
  {
   "cell_type": "code",
   "execution_count": 29,
   "metadata": {},
   "outputs": [
    {
     "data": {
      "text/plain": [
       "array([[6., 6., 6., 6., 6., 6.],\n",
       "       [6., 6., 6., 6., 6., 6.],\n",
       "       [6., 6., 6., 6., 6., 6.],\n",
       "       [6., 6., 6., 6., 6., 6.],\n",
       "       [6., 6., 6., 6., 6., 6.],\n",
       "       [6., 6., 6., 6., 6., 6.]])"
      ]
     },
     "execution_count": 29,
     "metadata": {},
     "output_type": "execute_result"
    },
    {
     "data": {
      "text/plain": [
       "array([6., 6., 6., 6., 6., 6.])"
      ]
     },
     "execution_count": 29,
     "metadata": {},
     "output_type": "execute_result"
    }
   ],
   "source": [
    "np.gradient(data, axis=0)"
   ]
  },
  {
   "cell_type": "markdown",
   "metadata": {},
   "source": [
    "## Divergence\n",
    "\n",
    "We can easily determine correlations between past prices and study values to search for divergences between the study and price during future trading. \n"
   ]
  },
  {
   "cell_type": "code",
   "execution_count": 89,
   "metadata": {},
   "outputs": [
    {
     "data": {
      "text/plain": [
       "array([[  0,   6,  12,  18,  24,  30],\n",
       "       [ 36,  42,  48,  54,  60,  66],\n",
       "       [ 72,  78,  84,  90,  96, 102],\n",
       "       [108, 114, 120, 126, 132, 138],\n",
       "       [144, 150, 156, 162, 168, 174],\n",
       "       [180, 186, 192, 198, 204, 210]])"
      ]
     },
     "execution_count": 89,
     "metadata": {},
     "output_type": "execute_result"
    },
    {
     "data": {
      "text/plain": [
       "array([[  0,   3,   6,   9,  12,  15],\n",
       "       [ 18,  21,  24,  27,  30,  33],\n",
       "       [ 36,  39,  42,  45,  48,  51],\n",
       "       [ 58,  57,  60,  63,  66,  69],\n",
       "       [ 72,  75,  78,  81,  84,  87],\n",
       "       [ 90,  93,  96,  99, 102, 105]])"
      ]
     },
     "execution_count": 89,
     "metadata": {},
     "output_type": "execute_result"
    },
    {
     "data": {
      "text/plain": [
       "array([[2.        , 2.        , 2.        , 2.        , 2.        ,\n",
       "        2.        ],\n",
       "       [2.        , 2.        , 2.        , 2.        , 2.        ,\n",
       "        2.        ],\n",
       "       [1.63636364, 2.        , 2.        , 2.        , 2.        ,\n",
       "        2.        ],\n",
       "       [2.57142857, 2.        , 2.        , 2.        , 2.        ,\n",
       "        2.        ],\n",
       "       [2.        , 2.        , 2.        , 2.        , 2.        ,\n",
       "        2.        ]])"
      ]
     },
     "execution_count": 89,
     "metadata": {},
     "output_type": "execute_result"
    },
    {
     "data": {
      "text/plain": [
       "array([2.04155844, 2.        , 2.        , 2.        , 2.        ,\n",
       "       2.        ])"
      ]
     },
     "execution_count": 89,
     "metadata": {},
     "output_type": "execute_result"
    },
    {
     "data": {
      "text/plain": [
       "array([0.30004216, 0.        , 0.        , 0.        , 0.        ,\n",
       "       0.        ])"
      ]
     },
     "execution_count": 89,
     "metadata": {},
     "output_type": "execute_result"
    }
   ],
   "source": [
    "data = np.arange(0, 36*3, 3).reshape(6,6)\n",
    "study = data\n",
    "data = data * 2\n",
    "study[3, 0] = 58\n",
    "div = np.diff(data, axis=0) / np.diff(study, axis=0)\n",
    "\n",
    "data\n",
    "study\n",
    "div\n",
    "np.mean(div, axis=0)\n",
    "np.std(div, axis=0)"
   ]
  },
  {
   "cell_type": "markdown",
   "metadata": {},
   "source": [
    "The resultant array tells us that on average a two fold increase in the value of a study should be associated with a four fold increase in price. We can apply this to future values of the study and price to note when the two diverge. Divergence of price and study trends may indicate that the price trend is nearing a reversal"
   ]
  },
  {
   "cell_type": "markdown",
   "metadata": {},
   "source": [
    "## Support and Resistance\n",
    "\n",
    "We can use peak detection algorithms to identify support and resistance levels"
   ]
  },
  {
   "cell_type": "code",
   "execution_count": 136,
   "metadata": {},
   "outputs": [
    {
     "data": {
      "text/plain": [
       "array([ 4, 20, 73, 84])"
      ]
     },
     "execution_count": 136,
     "metadata": {},
     "output_type": "execute_result"
    },
    {
     "data": {
      "text/plain": [
       "array([50])"
      ]
     },
     "execution_count": 136,
     "metadata": {},
     "output_type": "execute_result"
    },
    {
     "data": {
      "text/plain": [
       "[<matplotlib.lines.Line2D at 0x7f6cd351c0b8>]"
      ]
     },
     "execution_count": 136,
     "metadata": {},
     "output_type": "execute_result"
    },
    {
     "data": {
      "text/plain": [
       "[<matplotlib.lines.Line2D at 0x7f6d002a1e10>]"
      ]
     },
     "execution_count": 136,
     "metadata": {},
     "output_type": "execute_result"
    },
    {
     "data": {
      "text/plain": [
       "[<matplotlib.lines.Line2D at 0x7f6cd351c668>]"
      ]
     },
     "execution_count": 136,
     "metadata": {},
     "output_type": "execute_result"
    },
    {
     "data": {
      "text/plain": [
       "<function matplotlib.pyplot.show(*args, **kw)>"
      ]
     },
     "execution_count": 136,
     "metadata": {},
     "output_type": "execute_result"
    },
    {
     "data": {
      "image/png": "[encoded data removed]",
      "text/plain": [
       "<Figure size 432x288 with 1 Axes>"
      ]
     },
     "metadata": {},
     "output_type": "display_data"
    }
   ],
   "source": [
    "import scipy.signal as sig\n",
    "\n",
    "x = np.random.uniform(0, 10, 100)\n",
    "x = np.sort(x)\n",
    "y = 3*np.sin(x) + 2*np.abs(np.sin(2 * x)) + np.cos(x)\n",
    "peaks = sig.find_peaks(y, height=2)[0]\n",
    "peaks2 = sig.find_peaks(y*-1, height=2)[0]\n",
    "peaks\n",
    "peaks2\n",
    "\n",
    "plt.plot(x, y, linestyle='none', marker='o', markerfacecolor='r')\n",
    "plt.plot(x[peaks], [0] * len(peaks), linestyle='none', marker='o', markerfacecolor='b')\n",
    "plt.plot(x[peaks2], [0] * len(peaks2), linestyle='none', marker='o', markerfacecolor='b')\n",
    "plt.show"
   ]
  },
  {
   "cell_type": "code",
   "execution_count": null,
   "metadata": {},
   "outputs": [],
   "source": []
  }
 ],
 "metadata": {
  "kernelspec": {
   "display_name": "Python 3",
   "language": "python",
   "name": "python3"
  },
  "language_info": {
   "codemirror_mode": {
    "name": "ipython",
    "version": 3
   },
   "file_extension": ".py",
   "mimetype": "text/x-python",
   "name": "python",
   "nbconvert_exporter": "python",
   "pygments_lexer": "ipython3",
   "version": "3.7.0"
  }
 },
 "nbformat": 4,
 "nbformat_minor": 2
}
